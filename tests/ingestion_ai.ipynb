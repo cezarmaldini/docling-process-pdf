{
 "cells": [
  {
   "cell_type": "code",
   "execution_count": 34,
   "id": "b07dd573",
   "metadata": {},
   "outputs": [
    {
     "data": {
      "text/plain": [
       "True"
      ]
     },
     "execution_count": 34,
     "metadata": {},
     "output_type": "execute_result"
    }
   ],
   "source": [
    "import os\n",
    "from dotenv import load_dotenv\n",
    "\n",
    "from docling.datamodel.base_models import InputFormat\n",
    "from docling.datamodel.pipeline_options import (\n",
    "    PdfPipelineOptions,\n",
    "    PictureDescriptionApiOptions\n",
    ")\n",
    "from docling.document_converter import DocumentConverter, PdfFormatOption\n",
    "from docling_core.types.doc.document import ImageRefMode\n",
    "\n",
    "load_dotenv()"
   ]
  },
  {
   "cell_type": "code",
   "execution_count": 35,
   "id": "a7e208d6",
   "metadata": {},
   "outputs": [
    {
     "name": "stdout",
     "output_type": "stream",
     "text": [
      "files/2025.07 - RelatorioMensal.pdf\n"
     ]
    }
   ],
   "source": [
    "file = \"files/2025.07 - RelatorioMensal.pdf\"\n",
    "\n",
    "print(file)"
   ]
  },
  {
   "cell_type": "code",
   "execution_count": 36,
   "id": "d2198e05",
   "metadata": {},
   "outputs": [],
   "source": [
    "def convert_with_image_annotation(input_doc_path):\n",
    "    api_key = os.getenv(\"OPENAI_API_KEY\")\n",
    "    model = \"gpt-4.1-mini\"\n",
    "    picture_desc_api_option = PictureDescriptionApiOptions(\n",
    "        url=\"https://api.openai.com/v1/chat/completions\",\n",
    "        prompt=\"Describe this image in sentences in a single paragraph.\",\n",
    "        params=dict(\n",
    "                model=model,\n",
    "            ),\n",
    "        headers={\n",
    "            \"Authorization\": \"Bearer \" + api_key,\n",
    "        },\n",
    "        timeout=60,\n",
    "    )\n",
    "\n",
    "    pipeline_options = PdfPipelineOptions(\n",
    "        do_picture_description=True,\n",
    "        picture_description_options=picture_desc_api_option,\n",
    "        enable_remote_services=True,\n",
    "        generate_picture_images=True,\n",
    "        images_scale=2,\n",
    "    )\n",
    "\n",
    "    converter = DocumentConverter(\n",
    "        format_options={InputFormat.PDF: PdfFormatOption(pipeline_options=pipeline_options)}\n",
    "    )\n",
    "    conv_res = converter.convert(source=input_doc_path)\n",
    "    return conv_res"
   ]
  },
  {
   "cell_type": "code",
   "execution_count": 37,
   "id": "19e81359",
   "metadata": {},
   "outputs": [],
   "source": [
    "doc = convert_with_image_annotation(file)"
   ]
  },
  {
   "cell_type": "code",
   "execution_count": 38,
   "id": "f16e93dd",
   "metadata": {},
   "outputs": [
    {
     "name": "stdout",
     "output_type": "stream",
     "text": [
      "<!-- image -->\n",
      "\n",
      "<!-- image -->\n",
      "\n",
      "<!-- image -->\n",
      "\n",
      "<!-- image -->\n",
      "\n",
      "<!-- image -->\n",
      "None\n"
     ]
    }
   ],
   "source": [
    "print(print(doc.document.export_to_markdown(mark_annotations = True, include_annotations=True)))"
   ]
  }
 ],
 "metadata": {
  "kernelspec": {
   "display_name": ".venv",
   "language": "python",
   "name": "python3"
  },
  "language_info": {
   "codemirror_mode": {
    "name": "ipython",
    "version": 3
   },
   "file_extension": ".py",
   "mimetype": "text/x-python",
   "name": "python",
   "nbconvert_exporter": "python",
   "pygments_lexer": "ipython3",
   "version": "3.12.0"
  }
 },
 "nbformat": 4,
 "nbformat_minor": 5
}
