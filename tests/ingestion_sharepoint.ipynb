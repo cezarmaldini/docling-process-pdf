{
 "cells": [
  {
   "cell_type": "code",
   "execution_count": 8,
   "id": "c125d8e9",
   "metadata": {},
   "outputs": [
    {
     "data": {
      "text/plain": [
       "True"
      ]
     },
     "execution_count": 8,
     "metadata": {},
     "output_type": "execute_result"
    }
   ],
   "source": [
    "import os\n",
    "from dotenv import load_dotenv\n",
    "import requests\n",
    "\n",
    "load_dotenv()"
   ]
  },
  {
   "cell_type": "code",
   "execution_count": 11,
   "id": "9325d82c",
   "metadata": {},
   "outputs": [
    {
     "name": "stdout",
     "output_type": "stream",
     "text": [
      "Access token: eyJ0eXAiOiJKV1QiLCJub25jZSI6Im1KcUh3UWdwbXJON2F2R2VFNEVkRERKdTRYNFYxZ1U3SjFuYWJiQjRQZEUiLCJhbGciOiJSUzI1NiIsIng1dCI6IkpZaEFjVFBNWl9MWDZEQmxPV1E3SG4wTmVYRSIsImtpZCI6IkpZaEFjVFBNWl9MWDZEQmxPV1E3SG4wTmVYRSJ9.eyJhdWQiOiJodHRwczovL2dyYXBoLm1pY3Jvc29mdC5jb20iLCJpc3MiOiJodHRwczovL3N0cy53aW5kb3dzLm5ldC84YTYwZTJlMC1jMGRlLTQxODItYWZlMy03NzE3NjdlYTYwMmUvIiwiaWF0IjoxNzU0NTcyMDI1LCJuYmYiOjE3NTQ1NzIwMjUsImV4cCI6MTc1NDU3NTkyNSwiYWlvIjoiazJSZ1lMaTdXUzVPVzIvV25KOG5MY3NUUGpTOUF3QT0iLCJhcHBfZGlzcGxheW5hbWUiOiJuOG4tc2hhcmVwb2ludC1pbnRlZ3JhdGlvbiIsImFwcGlkIjoiNTQ5OTIyNmQtYjAxZS00NDE5LThhZTYtMzAxMTIwMzVmNTIwIiwiYXBwaWRhY3IiOiIxIiwiaWRwIjoiaHR0cHM6Ly9zdHMud2luZG93cy5uZXQvOGE2MGUyZTAtYzBkZS00MTgyLWFmZTMtNzcxNzY3ZWE2MDJlLyIsImlkdHlwIjoiYXBwIiwib2lkIjoiMDc2YmYyZDItOWNhMC00NGRiLWE1YzUtZDhkMWQ3YzNmZjRiIiwicmgiOiIxLkFXNEE0T0pnaXQ3QWdrR3Y0M2NYWi1wZ0xnTUFBQUFBQUFBQXdBQUFBQUFBQUFCdUFBQnVBQS4iLCJyb2xlcyI6WyJTaXRlcy5SZWFkLkFsbCIsIlNpdGVzLlJlYWRXcml0ZS5BbGwiLCJGaWxlcy5SZWFkV3JpdGUuQWxsIiwiRmlsZXMuUmVhZC5BbGwiLCJTaXRlcy5GdWxsQ29udHJvbC5BbGwiXSwic3ViIjoiMDc2YmYyZDItOWNhMC00NGRiLWE1YzUtZDhkMWQ3YzNmZjRiIiwidGVuYW50X3JlZ2lvbl9zY29wZSI6IlNBIiwidGlkIjoiOGE2MGUyZTAtYzBkZS00MTgyLWFmZTMtNzcxNzY3ZWE2MDJlIiwidXRpIjoiRG9wcGZ3dXY1RWV4NWc0WDFIdFBBQSIsInZlciI6IjEuMCIsIndpZHMiOlsiMDk5N2ExZDAtMGQxZC00YWNiLWI0MDgtZDVjYTczMTIxZTkwIl0sInhtc19mdGQiOiJRX2dwVS0tTE5sbndXVUYyTzVsUDkyZzgtdnpJSXUxbjRNMjFNRFRPMlAwQmRYTjNaWE4wTXkxa2MyMXoiLCJ4bXNfaWRyZWwiOiIyIDciLCJ4bXNfcmQiOiIwLjQyTGxZQkppekJNUzRXQVhFamh3cG5QQ2ZvR3JubXM5U2ljSzFsckxBa1U1aFFRcVBfZFdaOTlSOVZzOFF6dGY0LUctNjBCUkRpRUJaZ1lJT0FDbEFRIiwieG1zX3RjZHQiOjE1OTgyNjY3NDF9.dKVId4vEJFDwiQCqQ3Z5Z2bHnc3DvpVJD3WPjcj5L-O9lO57jCxsrYso_ZjxhUFIejlksjFSFYmSwmsRbvLt6cDPOt5An8y8fJSqOGj0LLWbgxhbLfdH1dic1beBAtKRB3d2pB1-0wKwuKo_RkohhMvJL5RAOmBE-w9pgVwFlAgmtvCGPRMPc2k2eCgFYEmJiZgggtp-Ibf-01Fttl9hazkRoEwkQbKBULuNqRNBzqUL8FyRE9tuQtOjSwYajpJn0uLv43HNbgvu4U9gR9OqLUCIcMjknur8uHbd-jbWbmxsuVlO-SzrcJeolyf_jimX0TrbOekdlwczWCQgmuJHjQ\n"
     ]
    }
   ],
   "source": [
    "TENANT_ID = os.getenv('TENANT_ID')\n",
    "CLIENT_ID = os.getenv('CLIENT_ID')\n",
    "CLIENT_SECRET = os.getenv('CLIENT_SECRET')\n",
    "\n",
    "token_url = f\"https://login.microsoftonline.com/{TENANT_ID}/oauth2/v2.0/token\"\n",
    "\n",
    "data = {\n",
    "    'grant_type': 'client_credentials',\n",
    "    'client_id': CLIENT_ID,\n",
    "    'client_secret': CLIENT_SECRET,\n",
    "    'scope': 'https://graph.microsoft.com/.default'\n",
    "}\n",
    "\n",
    "response = requests.post(token_url, data=data)\n",
    "access_token = response.json().get('access_token')\n",
    "\n",
    "print(\"Access token:\", access_token)"
   ]
  },
  {
   "cell_type": "code",
   "execution_count": 12,
   "id": "ac2fb0af",
   "metadata": {},
   "outputs": [
    {
     "name": "stdout",
     "output_type": "stream",
     "text": [
      "Site ID: taticogestao.sharepoint.com,83b4cda4-f169-49be-bf80-bb3fc551caba,47486a74-1c37-47cc-8226-d2bbb88a587c\n"
     ]
    }
   ],
   "source": [
    "site_name = \"BDTeste\"\n",
    "folder_path = \"teste_markdown\"\n",
    "\n",
    "# Obter site ID\n",
    "site_resp = requests.get(\n",
    "    f\"https://graph.microsoft.com/v1.0/sites/taticogestao.sharepoint.com:/sites/{site_name}\",\n",
    "    headers={\"Authorization\": f\"Bearer {access_token}\"}\n",
    ")\n",
    "site_id = site_resp.json().get(\"id\")\n",
    "print(\"Site ID:\", site_id)"
   ]
  },
  {
   "cell_type": "code",
   "execution_count": 14,
   "id": "46e7d408",
   "metadata": {},
   "outputs": [
    {
     "name": "stdout",
     "output_type": "stream",
     "text": [
      "Drive ID: b!pM20g2nxvkm_gLs_xVHKunRqSEc3HMxHgibSu7iKWHwN2pusafJUTZY69oTv2QRm\n",
      "Nome: FLN.2024.09 - Alto Padrão (Voss) - ARCELOR (aço e arame).pdf\n",
      "Link: https://taticogestao.sharepoint.com/sites/BDTeste/Documentos%20Compartilhados/teste_markdown/FLN.2024.09%20-%20Alto%20Padr%C3%A3o%20(Voss)%20-%20ARCELOR%20(a%C3%A7o%20e%20arame).pdf\n",
      "----------------------------------------\n",
      "Nome: FLN.2025.04 - Médio-Alto (Viva Balneário) - CONCREBRAS.pdf\n",
      "Link: https://taticogestao.sharepoint.com/sites/BDTeste/Documentos%20Compartilhados/teste_markdown/FLN.2025.04%20-%20M%C3%A9dio-Alto%20(Viva%20Balne%C3%A1rio)%20-%20CONCREBRAS.pdf\n",
      "----------------------------------------\n",
      "Nome: ITP.2024.09 - Luxo (Edify One) - Gerdau (incluso corte e dobra).pdf\n",
      "Link: https://taticogestao.sharepoint.com/sites/BDTeste/Documentos%20Compartilhados/teste_markdown/ITP.2024.09%20-%20Luxo%20(Edify%20One)%20-%20Gerdau%20(incluso%20corte%20e%20dobra).pdf\n",
      "----------------------------------------\n",
      "Nome: PÇR.2025.01 - Médio-Alto Padrão (Cill Tower) - CERÂMICA TIJOLAR.pdf\n",
      "Link: https://taticogestao.sharepoint.com/sites/BDTeste/Documentos%20Compartilhados/teste_markdown/P%C3%87R.2025.01%20-%20M%C3%A9dio-Alto%20Padr%C3%A3o%20(Cill%20Tower)%20-%20CER%C3%82MICA%20TIJOLAR.pdf\n",
      "----------------------------------------\n"
     ]
    }
   ],
   "source": [
    "# Obter drive ID (biblioteca de documentos padrão)\n",
    "drive_resp = requests.get(\n",
    "    f\"https://graph.microsoft.com/v1.0/sites/{site_id}/drive\",\n",
    "    headers={\"Authorization\": f\"Bearer {access_token}\"}\n",
    ")\n",
    "drive_id = drive_resp.json().get(\"id\")\n",
    "print(\"Drive ID:\", drive_id)\n",
    "\n",
    "# Obter lista de arquivos na pasta teste_markdown dentro do drive\n",
    "files_resp = requests.get(\n",
    "    f\"https://graph.microsoft.com/v1.0/drives/{drive_id}/root:/{folder_path}:/children\",\n",
    "    headers={\"Authorization\": f\"Bearer {access_token}\"}\n",
    ")\n",
    "\n",
    "if files_resp.status_code == 200:\n",
    "    files = files_resp.json()\n",
    "    for file in files.get('value', []):\n",
    "        print(f\"Nome: {file['name']}\")\n",
    "        print(f\"Link: {file['webUrl']}\")\n",
    "        print(\"-\" * 40)\n",
    "else:\n",
    "    print(f\"Erro ao listar arquivos: {files_resp.status_code} - {files_resp.text}\")"
   ]
  },
  {
   "cell_type": "code",
   "execution_count": 15,
   "id": "e1d0d623",
   "metadata": {},
   "outputs": [
    {
     "name": "stdout",
     "output_type": "stream",
     "text": [
      "Baixando FLN.2024.09 - Alto Padrão (Voss) - ARCELOR (aço e arame).pdf...\n",
      "Salvo em: downloads\\FLN.2024.09 - Alto Padrão (Voss) - ARCELOR (aço e arame).pdf\n",
      "Baixando FLN.2025.04 - Médio-Alto (Viva Balneário) - CONCREBRAS.pdf...\n",
      "Salvo em: downloads\\FLN.2025.04 - Médio-Alto (Viva Balneário) - CONCREBRAS.pdf\n",
      "Baixando ITP.2024.09 - Luxo (Edify One) - Gerdau (incluso corte e dobra).pdf...\n",
      "Salvo em: downloads\\ITP.2024.09 - Luxo (Edify One) - Gerdau (incluso corte e dobra).pdf\n",
      "Baixando PÇR.2025.01 - Médio-Alto Padrão (Cill Tower) - CERÂMICA TIJOLAR.pdf...\n",
      "Salvo em: downloads\\PÇR.2025.01 - Médio-Alto Padrão (Cill Tower) - CERÂMICA TIJOLAR.pdf\n"
     ]
    }
   ],
   "source": [
    "# Cria a pasta downloads local (se não existir)\n",
    "local_folder = \"downloads\"\n",
    "os.makedirs(local_folder, exist_ok=True)\n",
    "\n",
    "for file in files.get('value', []):\n",
    "    file_name = file['name']\n",
    "    download_url = file.get('@microsoft.graph.downloadUrl')\n",
    "    if not download_url:\n",
    "        print(f\"Sem link de download para {file_name}\")\n",
    "        continue\n",
    "\n",
    "    print(f\"Baixando {file_name}...\")\n",
    "\n",
    "    # Requisição GET para baixar o arquivo\n",
    "    file_resp = requests.get(download_url)\n",
    "    if file_resp.status_code == 200:\n",
    "        # Salvar arquivo localmente\n",
    "        local_path = os.path.join(local_folder, file_name)\n",
    "        with open(local_path, 'wb') as f:\n",
    "            f.write(file_resp.content)\n",
    "        print(f\"Salvo em: {local_path}\")\n",
    "    else:\n",
    "        print(f\"Erro ao baixar {file_name}: {file_resp.status_code}\")"
   ]
  }
 ],
 "metadata": {
  "kernelspec": {
   "display_name": ".venv",
   "language": "python",
   "name": "python3"
  },
  "language_info": {
   "codemirror_mode": {
    "name": "ipython",
    "version": 3
   },
   "file_extension": ".py",
   "mimetype": "text/x-python",
   "name": "python",
   "nbconvert_exporter": "python",
   "pygments_lexer": "ipython3",
   "version": "3.12.0"
  }
 },
 "nbformat": 4,
 "nbformat_minor": 5
}
